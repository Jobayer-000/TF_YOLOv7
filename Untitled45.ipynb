{
  "nbformat": 4,
  "nbformat_minor": 0,
  "metadata": {
    "colab": {
      "provenance": [],
      "collapsed_sections": []
    },
    "kernelspec": {
      "name": "python3",
      "display_name": "Python 3"
    },
    "language_info": {
      "name": "python"
    }
  },
  "cells": [
    {
      "cell_type": "code",
      "execution_count": 1,
      "metadata": {
        "colab": {
          "base_uri": "https://localhost:8080/"
        },
        "id": "_OW5c_b-gk9O",
        "outputId": "0eca277c-3871-4e5d-a92d-476b6e2f23b0"
      },
      "outputs": [
        {
          "output_type": "stream",
          "name": "stdout",
          "text": [
            "Cloning into 'TF_YOLOv7'...\n",
            "remote: Enumerating objects: 179, done.\u001b[K\n",
            "remote: Counting objects: 100% (108/108), done.\u001b[K\n",
            "remote: Compressing objects: 100% (104/104), done.\u001b[K\n",
            "remote: Total 179 (delta 41), reused 0 (delta 0), pack-reused 71\u001b[K\n",
            "Receiving objects: 100% (179/179), 1.61 MiB | 11.78 MiB/s, done.\n",
            "Resolving deltas: 100% (56/56), done.\n"
          ]
        }
      ],
      "source": [
        "!git clone https://github.com/Jobayer-000/TF_YOLOv7\n",
        "sys.path.append('/content/TF_YOLOv7')"
      ]
    },
    {
      "cell_type": "code",
      "source": [
        "import sys \n",
        "import tensorflow as tf\n",
        "from tensorflow import keras\n",
        "import yaml\n",
        "from model import yolo"
      ],
      "metadata": {
        "id": "wQePhO1Cjk3k"
      },
      "execution_count": 2,
      "outputs": []
    },
    {
      "cell_type": "code",
      "source": [
        "with open('/content/TF_YOLOv7/cfg/yolov7.yaml') as f:\n",
        "    cfg = yaml.load(f, Loader=yaml.SafeLoader)"
      ],
      "metadata": {
        "id": "VyU605m4jv4l"
      },
      "execution_count": 8,
      "outputs": []
    },
    {
      "cell_type": "code",
      "source": [
        "models = yolo.build_model(cfg)"
      ],
      "metadata": {
        "id": "H8kbKzqIj0A8"
      },
      "execution_count": 10,
      "outputs": []
    },
    {
      "cell_type": "code",
      "source": [],
      "metadata": {
        "id": "omab6P9Prg-j"
      },
      "execution_count": null,
      "outputs": []
    }
  ]
}